{
 "cells": [
  {
   "cell_type": "code",
   "execution_count": null,
   "metadata": {},
   "outputs": [],
   "source": []
  },
  {
   "cell_type": "code",
   "execution_count": 2,
   "metadata": {},
   "outputs": [],
   "source": [
    "import openpyxl\n",
    "from pathlib import Path\n",
    "data_folder=Path(\"C:/Users/msi/Desktop/proje/proje/dataset/\")\n",
    "file_to_open= data_folder/ \"Online_Shopping.xlsx\"\n",
    "my_data=openpyxl.load_workbook(file_to_open)\n",
    "my_sheet=my_data.active"
   ]
  },
  {
   "cell_type": "code",
   "execution_count": 3,
   "metadata": {},
   "outputs": [],
   "source": [
    "all_times=set()\n",
    "all_trans={}\n",
    "all_items={}\n",
    "for num,row in enumerate(my_sheet.iter_rows()):\n",
    "    if num==0:\n",
    "        continue\n",
    "    else:\n",
    "        temp=my_sheet.cell(row=num+1,column=1).value\n",
    "        test_cell=my_sheet.cell(row=num+1,column=3).value\n",
    "        price=my_sheet.cell(row=num+1,column=6).value\n",
    "        if price!=0 and test_cell!=None:\n",
    "            all_times.add(my_sheet.cell(row=num+1,column=5).value)\n",
    "            if temp not in all_trans.keys():\n",
    "                all_trans[temp]=[my_sheet.cell(row=num+1,column=2).value]\n",
    "            else:\n",
    "                all_trans[temp].append(my_sheet.cell(row=num+1,column=2).value)\n",
    "for num,row in enumerate(my_sheet.iter_rows()):\n",
    "    if num==0:\n",
    "        continue\n",
    "    else:\n",
    "        temp=my_sheet.cell(row=num+1,column=2).value\n",
    "        quantity=my_sheet.cell(row=num+1,column=4).value\n",
    "        test_cell=my_sheet.cell(row=num+1,column=3).value\n",
    "        price=my_sheet.cell(row=num+1,column=6).value\n",
    "        if price!=0 and test_cell!=None:\n",
    "            if temp not in all_items.keys():\n",
    "                all_items[temp]=quantity\n",
    "            else:\n",
    "                all_items[temp]+=quantity"
   ]
  },
  {
   "cell_type": "markdown",
   "metadata": {},
   "source": [
    "# Time Analysis"
   ]
  },
  {
   "cell_type": "code",
   "execution_count": 5,
   "metadata": {},
   "outputs": [
    {
     "data": {
      "image/png": "[encoded data removed]",
      "text/plain": [
       "<Figure size 566.929x453.543 with 1 Axes>"
      ]
     },
     "metadata": {
      "needs_background": "light"
     },
     "output_type": "display_data"
    }
   ],
   "source": [
    "all_hours={}\n",
    "for item in all_times:\n",
    "    if item.hour in all_hours:\n",
    "        all_hours[item.hour]+=1\n",
    "    else:\n",
    "        all_hours[item.hour]=1\n",
    "new_all_hours={}\n",
    "for key in sorted(all_hours.keys()):\n",
    "    new_all_hours[key]=all_hours[key]\n",
    "# print(new_all_hours)\n",
    "# %matplotlib notebook\n",
    "import matplotlib.pyplot as plt\n",
    "plt.rcParams['figure.figsize'] = [20/2.54, 16/2.54]\n",
    "plt.bar(new_all_hours.keys(),new_all_hours.values(),color='#7ebdb4')\n",
    "plt.ylabel('Number of transactions')\n",
    "plt.xlabel('Time in 24h format')\n",
    "plt.grid()\n",
    "plt.show()"
   ]
  },
  {
   "cell_type": "markdown",
   "metadata": {},
   "source": [
    "# k_itemset and most_purchased items analysis"
   ]
  },
  {
   "cell_type": "code",
   "execution_count": 6,
   "metadata": {},
   "outputs": [
    {
     "data": {
      "image/png": "[encoded data removed]",
      "text/plain": [
       "<Figure size 283.465x283.465 with 1 Axes>"
      ]
     },
     "metadata": {
      "needs_background": "light"
     },
     "output_type": "display_data"
    },
    {
     "data": {
      "image/png": "[encoded data removed]",
      "text/plain": [
       "<Figure size 283.465x283.465 with 1 Axes>"
      ]
     },
     "metadata": {
      "needs_background": "light"
     },
     "output_type": "display_data"
    }
   ],
   "source": [
    "new_all_trans={key:len(value) for key,value in all_trans.items()}\n",
    "quantity_dic={}\n",
    "for item in sorted(new_all_trans.values()):\n",
    "    if item not in quantity_dic:\n",
    "        quantity_dic[item]=1\n",
    "    else:\n",
    "        quantity_dic[item]+=1\n",
    "# new_all_items={}\n",
    "all_items={str(key):value for key,value in all_items.items() if value>0}\n",
    "all_items={k: v for k, v in sorted(all_items.items(), reverse=True, key=lambda item: item[1])}   \n",
    "import matplotlib.pyplot as plt\n",
    "plt.rcParams['figure.figsize'] = [10/2.54, 10/2.54]\n",
    "plt.bar(quantity_dic.keys(),quantity_dic.values(),color='#7ebdb4')\n",
    "plt.ylabel('Count')\n",
    "plt.xlabel('Number of different items')\n",
    "plt.xlim(0,20)\n",
    "plt.grid()\n",
    "plt.show()\n",
    "################################\n",
    "my_k=[item for i,item in enumerate(all_items.keys()) if i<10]\n",
    "my_v=[item for i,item in enumerate(all_items.values()) if i<10]\n",
    "plt.barh(my_k,my_v,color='#7ebdb4')\n",
    "plt.ylabel('Item Stockcode')\n",
    "plt.xlabel('Count')\n",
    "plt.grid()\n",
    "plt.show()"
   ]
  },
  {
   "cell_type": "code",
   "execution_count": null,
   "metadata": {},
   "outputs": [],
   "source": []
  },
  {
   "cell_type": "code",
   "execution_count": null,
   "metadata": {},
   "outputs": [],
   "source": []
  },
  {
   "cell_type": "code",
   "execution_count": null,
   "metadata": {},
   "outputs": [],
   "source": []
  },
  {
   "cell_type": "code",
   "execution_count": null,
   "metadata": {},
   "outputs": [],
   "source": []
  }
 ],
 "metadata": {
  "kernelspec": {
   "display_name": "Python 3",
   "language": "python",
   "name": "python3"
  },
  "language_info": {
   "codemirror_mode": {
    "name": "ipython",
    "version": 3
   },
   "file_extension": ".py",
   "mimetype": "text/x-python",
   "name": "python",
   "nbconvert_exporter": "python",
   "pygments_lexer": "ipython3",
   "version": "3.7.4"
  }
 },
 "nbformat": 4,
 "nbformat_minor": 2
}
